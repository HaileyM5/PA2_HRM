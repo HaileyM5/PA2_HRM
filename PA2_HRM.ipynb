{
 "cells": [
  {
   "cell_type": "markdown",
   "id": "8874497a",
   "metadata": {},
   "source": [
    "# Hailey Mueller, Version 1\n",
    "\n",
    "## PA2\n",
    "\n",
    "### Spring Semester"
   ]
  },
  {
   "cell_type": "code",
   "execution_count": null,
   "id": "44965ded",
   "metadata": {},
   "outputs": [],
   "source": [
    "number3=[5,13,789,22,46,79]\n",
    "number3"
   ]
  },
  {
   "cell_type": "code",
   "execution_count": 17,
   "id": "053c3fb5",
   "metadata": {},
   "outputs": [
    {
     "data": {
      "text/plain": [
       "[5, 13, 789, 22, 46, 79, 92]"
      ]
     },
     "execution_count": 17,
     "metadata": {},
     "output_type": "execute_result"
    }
   ],
   "source": [
    "number3.append(92) # Append adds elements to the end of the list\n",
    "number3"
   ]
  },
  {
   "cell_type": "code",
   "execution_count": 18,
   "id": "20a17a9c",
   "metadata": {},
   "outputs": [
    {
     "data": {
      "text/plain": [
       "[5, 13, 789, 22, 46, 79, 92, 19, 60, 11]"
      ]
     },
     "execution_count": 18,
     "metadata": {},
     "output_type": "execute_result"
    }
   ],
   "source": [
    "numbers_2=(19,60,11)\n",
    "number3.extend(numbers_2) #extend will add the element to the end for a loop\n",
    "number3"
   ]
  },
  {
   "cell_type": "code",
   "execution_count": 19,
   "id": "fcd0b37a",
   "metadata": {},
   "outputs": [
    {
     "data": {
      "text/plain": [
       "[5, 13, 789, 31, 22, 46, 79, 92, 19, 60, 11]"
      ]
     },
     "execution_count": 19,
     "metadata": {},
     "output_type": "execute_result"
    }
   ],
   "source": [
    "number3.insert(3,31) #insert will add items from another list to a previous list\n",
    "number3"
   ]
  },
  {
   "cell_type": "code",
   "execution_count": 20,
   "id": "b4ec236c",
   "metadata": {},
   "outputs": [
    {
     "data": {
      "text/plain": [
       "[5, 13, 789, 31, 22, 79, 92, 19, 60, 11]"
      ]
     },
     "execution_count": 20,
     "metadata": {},
     "output_type": "execute_result"
    }
   ],
   "source": [
    "number3.remove(46) #Remove will remove whichever element is given\n",
    "number3"
   ]
  },
  {
   "cell_type": "code",
   "execution_count": 21,
   "id": "b6fd2ba6",
   "metadata": {},
   "outputs": [
    {
     "data": {
      "text/plain": [
       "1"
      ]
     },
     "execution_count": 21,
     "metadata": {},
     "output_type": "execute_result"
    }
   ],
   "source": [
    "number3.count(31) # count will count the number of times that a certain index is in a list"
   ]
  },
  {
   "cell_type": "code",
   "execution_count": 22,
   "id": "073ef141",
   "metadata": {},
   "outputs": [
    {
     "data": {
      "text/plain": [
       "2"
      ]
     },
     "execution_count": 22,
     "metadata": {},
     "output_type": "execute_result"
    }
   ],
   "source": [
    "number3.index(789) #Index will give you the index of a specific item in a list"
   ]
  },
  {
   "cell_type": "code",
   "execution_count": 23,
   "id": "c2ecb921",
   "metadata": {},
   "outputs": [
    {
     "data": {
      "text/plain": [
       "[5, 13, 789, 31, 22, 92, 19, 60, 11]"
      ]
     },
     "execution_count": 23,
     "metadata": {},
     "output_type": "execute_result"
    }
   ],
   "source": [
    "number3.pop(5) #Pop will remove the given item from the list, no matter the index\n",
    "number3"
   ]
  },
  {
   "cell_type": "code",
   "execution_count": 24,
   "id": "6946d0f8",
   "metadata": {
    "scrolled": true
   },
   "outputs": [
    {
     "data": {
      "text/plain": [
       "[5, 13, 789, 31, 22, 92, 19, 60, 11]"
      ]
     },
     "execution_count": 24,
     "metadata": {},
     "output_type": "execute_result"
    }
   ],
   "source": [
    "sorted(number3)#Sorted will permenantly sort the numbers in the list\n",
    "number3"
   ]
  },
  {
   "cell_type": "code",
   "execution_count": 25,
   "id": "bef42fc4",
   "metadata": {},
   "outputs": [
    {
     "data": {
      "text/plain": [
       "[5, 13, 789, 31, 22, 92, 19, 60, 11]"
      ]
     },
     "execution_count": 25,
     "metadata": {},
     "output_type": "execute_result"
    }
   ],
   "source": [
    "number3.copy() # Copy will copy the numbers in this list"
   ]
  },
  {
   "cell_type": "code",
   "execution_count": 26,
   "id": "d8fdfb09",
   "metadata": {},
   "outputs": [
    {
     "data": {
      "text/plain": [
       "[]"
      ]
     },
     "execution_count": 26,
     "metadata": {},
     "output_type": "execute_result"
    }
   ],
   "source": [
    "number3.clear() #Clear will remove all of the elements in the given list\n",
    "number3 "
   ]
  },
  {
   "cell_type": "code",
   "execution_count": 27,
   "id": "a76dd023",
   "metadata": {},
   "outputs": [
    {
     "data": {
      "text/plain": [
       "[]"
      ]
     },
     "execution_count": 27,
     "metadata": {},
     "output_type": "execute_result"
    }
   ],
   "source": [
    "list(number3) #List will show the list that is being recalled"
   ]
  },
  {
   "cell_type": "code",
   "execution_count": 28,
   "id": "8452ed74",
   "metadata": {},
   "outputs": [
    {
     "data": {
      "text/plain": [
       "5"
      ]
     },
     "execution_count": 28,
     "metadata": {},
     "output_type": "execute_result"
    }
   ],
   "source": [
    "names=(\"Sam\", \"Brad\",\"Allie\", \"Garrett\", \"Alexis\")\n",
    "len(names) #Len will give the number of elements in the list"
   ]
  },
  {
   "cell_type": "code",
   "execution_count": 29,
   "id": "c5032cf8",
   "metadata": {},
   "outputs": [
    {
     "data": {
      "text/plain": [
       "'Sam'"
      ]
     },
     "execution_count": 29,
     "metadata": {},
     "output_type": "execute_result"
    }
   ],
   "source": [
    "max(names) #Max will give the first value in a list"
   ]
  },
  {
   "cell_type": "code",
   "execution_count": 30,
   "id": "1fcb65f3",
   "metadata": {},
   "outputs": [
    {
     "data": {
      "text/plain": [
       "'Alexis'"
      ]
     },
     "execution_count": 30,
     "metadata": {},
     "output_type": "execute_result"
    }
   ],
   "source": [
    "min(names) #Min will give the last value in a list"
   ]
  }
 ],
 "metadata": {
  "kernelspec": {
   "display_name": "Python 3 (ipykernel)",
   "language": "python",
   "name": "python3"
  },
  "language_info": {
   "codemirror_mode": {
    "name": "ipython",
    "version": 3
   },
   "file_extension": ".py",
   "mimetype": "text/x-python",
   "name": "python",
   "nbconvert_exporter": "python",
   "pygments_lexer": "ipython3",
   "version": "3.9.13"
  }
 },
 "nbformat": 4,
 "nbformat_minor": 5
}
